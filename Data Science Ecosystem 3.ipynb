{
 "cells": [
  {
   "cell_type": "markdown",
   "id": "3f0d0d7e",
   "metadata": {},
   "source": [
    "# Data Science Tools"
   ]
  },
  {
   "cell_type": "markdown",
   "id": "001e1e28",
   "metadata": {},
   "source": [
    "In this notebook, Data Science Tools and Ecosystem are summarized.\n",
    "\n",
    "There are diferent types of tolls that Data Scientists use and popular examples of each. Being familiar with open source,cloud-based and commercial options for Data Science Tools."
   ]
  },
  {
   "cell_type": "markdown",
   "id": "5f091235",
   "metadata": {},
   "source": [
    "**Objectives**\n",
    "- Python\n",
    "- SQL\n",
    "- RStudio\n",
    "- Java"
   ]
  },
  {
   "cell_type": "markdown",
   "id": "1c1d1345",
   "metadata": {},
   "source": [
    "Some of the popular languages that Data Scientists use are:\n",
    "\n",
    "1. SQL\n",
    "2. Java\n",
    "3. C++\n",
    "4. Javascript\n",
    "5. Julia"
   ]
  },
  {
   "cell_type": "markdown",
   "id": "dbc4bcf8",
   "metadata": {},
   "source": [
    "Some of the commonly used libraries used by Data Scientists include:\n",
    "\n",
    "1. Pandas\n",
    "2. Numpy\n",
    "3. Matplotlib\n",
    "4. Seaborn\n",
    "5. Scikit\n",
    "6. Keras\n",
    "7. Tensorflow\n",
    "8. Pytorch"
   ]
  },
  {
   "cell_type": "markdown",
   "id": "d3bf73f6",
   "metadata": {},
   "source": [
    "## Data Science Tools\n",
    "---\n",
    "|Jupyter Lab|GitHub|Visual Studio Code|"
   ]
  },
  {
   "cell_type": "markdown",
   "id": "c14695e9",
   "metadata": {},
   "source": [
    "### Below are a few examples of evaluating arithmetic expressions in python"
   ]
  },
  {
   "cell_type": "markdown",
   "id": "e16b48ed",
   "metadata": {},
   "source": [
    "This is a simple arithmetic expression to multiply then add integers"
   ]
  },
  {
   "cell_type": "code",
   "execution_count": 3,
   "id": "b0af734c",
   "metadata": {},
   "outputs": [
    {
     "data": {
      "text/plain": [
       "17"
      ]
     },
     "execution_count": 3,
     "metadata": {},
     "output_type": "execute_result"
    }
   ],
   "source": [
    "(3*4)+5"
   ]
  },
  {
   "cell_type": "markdown",
   "id": "ffd7b871",
   "metadata": {},
   "source": [
    "This will convert 200 minutes to hours by dividing by 60."
   ]
  },
  {
   "cell_type": "code",
   "execution_count": 4,
   "id": "a8222cc1",
   "metadata": {},
   "outputs": [
    {
     "data": {
      "text/plain": [
       "3.3333333333333335"
      ]
     },
     "execution_count": 4,
     "metadata": {},
     "output_type": "execute_result"
    }
   ],
   "source": [
    "200/60"
   ]
  },
  {
   "cell_type": "markdown",
   "id": "6cca29f0",
   "metadata": {},
   "source": [
    "## Author\n",
    "\n",
    "Chinwekele Munachimso Afonne"
   ]
  },
  {
   "cell_type": "code",
   "execution_count": null,
   "id": "a0174865",
   "metadata": {},
   "outputs": [],
   "source": []
  }
 ],
 "metadata": {
  "kernelspec": {
   "display_name": "Python 3 (ipykernel)",
   "language": "python",
   "name": "python3"
  },
  "language_info": {
   "codemirror_mode": {
    "name": "ipython",
    "version": 3
   },
   "file_extension": ".py",
   "mimetype": "text/x-python",
   "name": "python",
   "nbconvert_exporter": "python",
   "pygments_lexer": "ipython3",
   "version": "3.10.9"
  }
 },
 "nbformat": 4,
 "nbformat_minor": 5
}
